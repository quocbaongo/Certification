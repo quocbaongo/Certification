{
  "nbformat": 4,
  "nbformat_minor": 0,
  "metadata": {
    "colab": {
      "provenance": []
    },
    "kernelspec": {
      "name": "python3",
      "display_name": "Python 3"
    },
    "language_info": {
      "name": "python"
    }
  },
  "cells": [
    {
      "cell_type": "markdown",
      "source": [
        "#1. Introduction\n",
        "\n",
        "The COVID-19 pandemic has resulted in a striking number of casualties worldwide and presents an unprecedented challenged to public health, food security or the world of work. During the COVID-19 crisis, we have seen a variety of emerging COVID variant including Alpha, Beta, Delta or Omicron. The fact that SARS-COV-2, a virus that causes COVID-19, has been changing constantly to escape from the human immune system, poses a major challenge to the development of vaccines for the disease. Therefore a strategy to quickly determine which mutations might result in viral escape from the immune system might greatly assist the development of vaccines against the constantly prominent COVID variant. In a research of Hie et al. (2021), the authors employed a machine learning technique for natural language processing to predict the mutations on the surface of the SARS-COV-2 Spike protein leading to the viral escape effect."
      ],
      "metadata": {
        "id": "i16bMv9Npi-d"
      }
    },
    {
      "cell_type": "markdown",
      "source": [
        "# 2. Biological background\n",
        "\n",
        "Before reviewing in-depth the model developed by Hie at al. (2021) and its application, it might be crucial to establish a general biological background about amino acid, protein and single amino acid mutation.\n",
        "\n",
        "Amino acids are organic compounds that are composed of a basic amino group (-NH2), an acidic carboxyl group (-COOH), and an unique organic R group (Figure 1). Even though there are hundreds of amino acids existing in the nature, the most important one are alpha-amino acids, which are the building blocks of proteins. Table 1 displays the 20 standard alpha-amino acids and their one and three letter codes.\n",
        "\n"
      ],
      "metadata": {
        "id": "3iUsZN85pkP_"
      }
    },
    {
      "cell_type": "markdown",
      "source": [
        "![](https://i.imgur.com/JAweni8.png)\n",
        "\n",
        "Figure 1. Amino acid chart. Adapted from https://www.technologynetworks.com/applied-sciences/articles/essential-amino-acids-chart-abbreviations-and-structure-324357).\n",
        "\n",
        "\n"
      ],
      "metadata": {
        "id": "iH0rtVclP_at"
      }
    },
    {
      "cell_type": "markdown",
      "source": [
        "\\begin{array}{|c|c|} \\hline\n",
        "Amino\\ Acid  & One\\ letter\\ code & Three\\ letters\\ code \\\\ \\hline\n",
        "Glycine & G & GLY \\\\\n",
        "Proline & P & PRO  \\\\\n",
        "Alanine & A & ALA  \\\\\n",
        "Valine & V & VAL \\\\\n",
        "Leucine & L & LEU  \\\\\n",
        "Isoleucine & I & ILE  \\\\\n",
        "Methionine & M & MET \\\\\n",
        "Cysteine & C & CYS  \\\\\n",
        "Phenylalanine & Y & PHE  \\\\\n",
        "Tyrosine & Y & TYR \\\\\n",
        "Tryptophan & W & TRP  \\\\\n",
        "Histidine & H & HIS  \\\\\n",
        "Lysine & K & LYS \\\\\n",
        "Arginine & R & ARG  \\\\\n",
        "Glutamine & Q & GLN \\\\\n",
        "Asparagine & N & ASN  \\\\\n",
        "Glutamic\\ Acid & E & GLU \\\\\n",
        "Asparagine & N & ASN  \\\\\n",
        "Glutamic\\ Acid & E & GLU \\\\\n",
        "Aspartic\\ Acid & D & ASP \\\\\n",
        "Serine  & S & SER \\\\\n",
        "Threonine & T & THR \\\\\n",
        "\\hline\n",
        "\\end{array}\n",
        "\n",
        "\n",
        "Table 1: The Single and Triple-Letter Amino Acid Code.\n",
        "\n",
        "\n"
      ],
      "metadata": {
        "id": "ImPnXMoTqzJP"
      }
    },
    {
      "cell_type": "markdown",
      "source": [
        "Protein is large biomolecules that are made up of one or multiple chains of amino acid. Protein is involved in a variety of functions within organisms such as catalyzing metabolic reactions, transporting molecules, DNA replication, responding to stimuli, etc. It should be noted that proteins differ from one another primarily in their amino acid sequence leading to their specific folding into a 3D structure. Figure 2 displays the 3D structure of the Delta SARS-COV-2 variant Spike protein and its amino acid sequence.  \n"
      ],
      "metadata": {
        "id": "_kYtv1w4q_T5"
      }
    },
    {
      "cell_type": "markdown",
      "source": [
        "![](https://i.imgur.com/GQlWJjN.png)\n",
        "\n",
        "Figure 2. (A) A crystal structure of the Delta (B.1.617.2) SARS-COV-2 variant Spike protein (PDB ID: 7TOV). The Spike protein is a transmembrane protein, which is crucial for the penetration of the SARS-COV-2 virus to human cell. (B) The amino acid sequence of the Delta variant SARS-COV-2 Spike protein."
      ],
      "metadata": {
        "id": "p6QOKhqzb_j0"
      }
    },
    {
      "cell_type": "markdown",
      "source": [
        "Single amino acid mutation or missense mutation is a change from one amino acid to a different amino acid in a protein that might influence the entire protein structure or function. For instance, a mutation of Q493R is the one that enhances remarkably binding affinity of the Delta SARS-COV-2 variant Spike protein to its binding partners human Angiotensin-converting enzyme 2 (ACE2) (Kumar et al., 2021). Q493R is an abbreviation of a single amino acid mutation, in which the amino acid Glutamine (GLN or Q) at position of 493 in the protein sequence is substituted by the amino acid Arginine (ARG or R)."
      ],
      "metadata": {
        "id": "E6yKN-C8o3dM"
      }
    },
    {
      "cell_type": "markdown",
      "source": [
        "#3. Algorithm of the language of viral evolution and escape\n",
        "\n"
      ],
      "metadata": {
        "id": "h17BP2eB60rF"
      }
    },
    {
      "cell_type": "markdown",
      "source": [
        "A major challange for the development of an universal vaccine against SARS-COV-2 or any virus is the fact that the viruses are changing or mutating constantly. Viral escape, which refers to the inability of the human immune system to recognize and eliminate a pathogen, such as a virus, can be caused by even a single amino acid mutation. Hence, understanding the mutation rules governing the viral escape might be essential for the future vaccine research and development.\n",
        "\n",
        "3.1. Constrained semantic change search problem formulation\n",
        "\n",
        "As the Spike protein is essential for the peneration of the SARS-COV-2 virus to human cell, and is targeted by antibodies, the protein is crucial for determining if the viral escape occurs. In the article of Hie et al. (2021), the author used the Spike protein as a test system to develop a model to predict which single amino acid on the surface of the Spike has a great potential to cause viral escape phenomenon. Like linguistic semantics, biological function of a protein is encoded by sequence of tokens that is sequence of amino acids. The underlying key concept of the viral escape phenomenon is that a mutation must simultaneously preserve viral infectivity (in other words it must be 'grammatical') and make the virus no longer recognized by the host immune system (or it must have a significant 'semantic change').\n",
        "\n",
        "Given the sequence of amino acids/tokens of the Spike protein, the goal is to find mutations, which leads to high semantic/antigentically change, while ensures the grammar correct or preserves the biological functioning. The sequence of tokens of the Spike protein is described as $\\textbf{x} \\overset{\\Delta}{=}$ ($x_1$,...,$x_N$), where $x_i$ $\\in$ $\\textit{X}$, i $\\in$ $\\textbf{N}$, and $\\textit{X}$ is a collection of 20 alphabet characters denoting the single-letter amino acid codes (Table 1). On the other hand, the amino acid sequence of the mutated protein is defined as $\\textbf{x}$[$\\tilde{x_i}$] $\\overset{\\Delta}{=}$ (..,$x_{i-1}$,$\\tilde{x_i}$,$x_{i+1}$,..) with $\\tilde{x_i}$ denoting a single point mutation at position i in the protein sequence.\n",
        "\n",
        "To fullfil the aforementioned goal, it requires to define a semantic embedding that is $\\textbf{z}$[$\\tilde{x_i}$] $\\overset{\\Delta}{=}$ $f_s$($\\textbf{x}$), $f_s$: $\\textit{X}^{\\textbf{N}}$. Here, the semantic embedding could be considered as a function to transform the discrete-alphabet protein sequences into a continuous space, in which a close distance in the embedding space is equivalent to semantic similarity or no significant change in antigenicity. The following equation describes semantic/antigenically change upon a single amino acid mutation in the sequence as the distance in the embedding space:\n",
        "\n",
        "$$ \\Delta\\textbf{z}[\\tilde{x_i}] \\overset{\\Delta}{=} || \\textbf{z} - \\textbf{z} [\\tilde{x_i}] || = || f_s(\\textbf{x}) - f_s(\\textbf{x}[\\tilde{x_i}]) || $$"
      ],
      "metadata": {
        "id": "AYAdEPvTh7mp"
      }
    },
    {
      "cell_type": "markdown",
      "source": [
        "![](https://i.imgur.com/I5haZVA.png)\n",
        "\n",
        "Figure 3. Constrained semantic change search (CSCS) for viral escape\n",
        "prediction aims to identify mutations to a viral protein sequence that maintains the protein biological function and infectivity while induces its antigenically change. In the rule of language, this corresponds to a word change in a sentence that is grammatical precise but completely alters its semantics. Adapted from Hie et al. (2021).\n",
        "\n",
        "\n"
      ],
      "metadata": {
        "id": "9yjB5oMX2zeM"
      }
    },
    {
      "cell_type": "markdown",
      "source": [
        "Besides constructing a semantic embedding to measure the antigenically change of the mutant Spike protein sequences, a strategy needs to be established to assess the biological fitness of the mutant protein. The grammaticality of a mutation is evaluated by $\\textit{p}$($\\tilde{x_i}$|$\\textbf{x}$), which is a probability density function taking the value between 0 and 1. The function returns the value close to 0 if the $\\textbf{x}$[$\\tilde{x_i}$] is grammaticality unacceptable, while close to 1 if it is acceptable.\n",
        "\n",
        "\n",
        "\n",
        "\n",
        "\n"
      ],
      "metadata": {
        "id": "o6pVrwzuJlxe"
      }
    },
    {
      "cell_type": "markdown",
      "source": [
        "Taken together, the most final objective is to search for mutations on the Spike protein sequence that is grammatical correct as evaluated by the $\\textit{p}$($\\tilde{x_i}$|$\\textbf{x}$) function, while having a high distance in the embedding space. This could be achieved by defining a function taking semantic change and grammaticality as a linear combination\n",
        "\n",
        "$$ a(\\tilde{x_i};\\textbf{x}) \\overset{\\Delta}{=} \\Delta\\textbf{z}[\\tilde{x_i}] + \\beta\\textit{p}(\\tilde{x_i}|\\textbf{x}) for\\ each\\ possible\\ point\\ mutation\\  \\tilde{x_i}$$."
      ],
      "metadata": {
        "id": "RirKp0exPuxK"
      }
    },
    {
      "cell_type": "markdown",
      "source": [
        "3.2. Language modeling\n",
        "\n",
        "Given the aforementioned $\\Delta$$\\textbf{z}$[$\\tilde{x_i}$] and $\\textit{p}$($\\tilde{x_i}$|$\\textbf{x}$), a single approach is employed to compute both terms, simultaneously using the language model that learns the probability distribution of a word given its context or an amino acid given its protein sequence. In the research of Hie et al. (2020, 2021), the developed languague model takes into account the full sequence context of an amino acid/word and learns a latent variable probability distribution $\\hat{\\textit{p}}$ and function $\\hat{\\textit{$f_s$}}$, in which, with $\\textit{i}$ $\\in$ $\\textit{N}$,\n",
        "\n",
        "$$ \\hat{\\textit{p}}({x_i}|\\textbf{x}_{[N] /\\ \\{i\\}},{\\hat{\\textbf{z}}_i}) \\ and \\ {\\hat{\\textbf{z}}_i} = \\hat{\\textit{$f_s$}}(\\textbf{x}_{[N] /\\ \\{i\\}}) \\ (Figure \\ 4) $$\n",
        "\n",
        "Afterwards, the semantic change and grammaticality are defined by expressing\n",
        "\n",
        "$$ \\Delta\\textbf{z}[\\tilde{x_i}] \\overset{\\Delta}{=} {|| \\hat{\\textbf{z}} - \\hat{\\textbf{z}}[\\tilde{x_i}] ||}_1 \\ and \\ \\hat{\\textit{p}}({x_i}|\\textbf{x}) \\overset{\\Delta}{=} \\hat{\\textit{p}}(\\tilde{x_i}|\\hat{\\textbf{z}}_i) $$\n",
        "\n",
        "Note that $\\hat{\\textbf{z}} \\overset{\\Delta}{=} [{\\hat{\\textbf{z}_1}^T} ... {\\hat{\\textbf{z}_N}^T}]^T$ is a concatenated matrix of the embedding for each amino acid/token in a sequence, $\\hat{\\textbf{z}}[\\tilde{x_i}]$ is the semantic embedding representation for the mutated protein sequence, and $||.||_1$ is the $l_1$ norm."
      ],
      "metadata": {
        "id": "XFSkQLjFEJTi"
      }
    },
    {
      "cell_type": "markdown",
      "source": [
        "As recurrent neural networks (RNN) proved its capability to learn sequential data, a variant of RNN that is bidirectional long-short-term-memory (BiLSTM) was utilized for the protein-sequence representation learning in the research. Here, each of the full context protein sequence in a corpus of SARS-COV-2 Spike protein amino acid sequences is passed into the BiLSTM hidden layers, and the generated concatenated matrix of the final LSTM layers is used as the semantic embedding such that\n",
        "\n",
        "$$ \\hat{\\textbf{z}}_i \\overset{\\Delta}{=} [LSTM_f(g_f(x_1,...,x_{i-1}))^T \\ \\ \\ LSTM_r(g_r(x_{i+1},...,x_N))^T]^T $$\n",
        "\n",
        "where $LSTM_f$ is the final forward-directed LSTM layer,  $g_f$ is the output of the preceding forward-directed layer, and $LSTM_r$ and $g_r$ are the corresponding reverse-directed components. The final output of the model (Figure 4) is a softmax-activation function transformation of the semantic embedding layer $\\hat{\\textbf{z}_i}$\n",
        "\n",
        "$$ \\hat{\\textit{p}}({x_i}|\\textbf{x}_{[N] /\\ \\{i\\}}) \\overset{\\Delta}{=} softmax(\\textbf{W} \\hat{\\textbf{z}} + \\textbf{b}) $$\n",
        "\n",
        "that illustrates how fit a particular token is in within the full context sequence."
      ],
      "metadata": {
        "id": "9W4xfeK73ndk"
      }
    },
    {
      "cell_type": "markdown",
      "source": [
        "![](https://i.imgur.com/YjJFIBf.png)\n",
        "\n",
        "Figure 4.  Language model architecture with two stacked BiLSTM layers instantiating the semantic embedding function\n",
        "$\\hat{f}$, with the final language model output used as grammaticality. Adapted from Hie et al. (2020)."
      ],
      "metadata": {
        "id": "1WqZC9v0vSpB"
      }
    },
    {
      "cell_type": "markdown",
      "source": [
        "To validate whether combining semantic change and grammaticality is capable of anticipating mutations leading to the viral escape phenomenon, a set of all possible single amino acid mutations on the SARS-COV-2 Spike was made in silico. Afterwards, each mutant protein was ranked based on the CSCS function of combining semantic change and grammaticality a($\\tilde{x_i}$;$\\textbf{x}$). Finally, the ranking on the basis of the CSCS function was crossed with the experimentally verified mutants causally inducing escape from neutralizing antibodies. The wet-lab experiments include identifying escape mutations to the SARS-COV-2 Spike by employing natural replication error after in vitro passages under antibody selection (Baum et al., 2020) and performing a DMS to recognize mutants, which affect antibody binding to yeast-displayed the Spike Receptor-binding domain (Greaney et al., 2020). The area under the curve (AUC) value of the acquired escape mutations in comparison with the acquired mutations in total for the two aformentioned experiments are 0.85 and 0.71, respectively. The result indicated the CSCS enrichment of the acquired escapes."
      ],
      "metadata": {
        "id": "oprYBVdxd5Vg"
      }
    },
    {
      "cell_type": "markdown",
      "source": [
        "# References\n",
        "\n",
        "Hie, B. et al. (2020) “Learning the language of viral evolution and escape.” Available at: https://doi.org/10.1101/2020.07.08.193946.\n",
        "\n",
        "https://proceedings.neurips.cc/paper/2020/file/6754e06e46dfa419d5afe3c9781cecad-Paper.pdf\n",
        "\n",
        "Flissi, Areski; Ricart, Emma; Campart, Clémentine; Chevalier, Mickael; Dufresne, Yoann; Michalik, Juraj; Jacques, Philippe; Flahaut, Christophe; Lisacek, Frédérique; Leclère, Valérie; Pupin, Maude (2020). \"Norine: update of the nonribosomal peptide resource\". Nucleic Acids Research. 48 (D1): D465–D469. doi:10.1093/nar/gkz1000. PMC 7145658. PMID 31691799.\n",
        "\n",
        "https://www.biorxiv.org/content/10.1101/2021.12.02.470946v1.full\n",
        "\n",
        "A. Baum et al., Science 369, 1014–1018 (2020).\n",
        "\n",
        " A. J. Greaney et al., Cell Host Microbe 10.1016/j.chom.2020.11.007\n",
        "(2020)"
      ],
      "metadata": {
        "id": "xduXnYohpkS6"
      }
    }
  ]
}