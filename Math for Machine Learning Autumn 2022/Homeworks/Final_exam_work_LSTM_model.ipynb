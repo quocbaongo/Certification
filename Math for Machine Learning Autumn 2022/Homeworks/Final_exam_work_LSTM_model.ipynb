{
  "nbformat": 4,
  "nbformat_minor": 0,
  "metadata": {
    "colab": {
      "provenance": []
    },
    "kernelspec": {
      "name": "python3",
      "display_name": "Python 3"
    },
    "language_info": {
      "name": "python"
    }
  },
  "cells": [
    {
      "cell_type": "markdown",
      "source": [
        "# LSTM model\n",
        "Long Short Term Memory network (LSTM) are a variant of RNN, which is capable of learning long-term dependencies. LSTMs are explicitly designed to avoid the long-term dependency problem, in which remembering information for a long period of time is a default behavior. As RNN, the form of LSTM is also a chain of repeating modules of neural network. However, while this repeating module have a simple structure in RNN such as a single tanh layer, there are four interacting layer in LSTM.\n",
        "\n",
        "The key component of LSTMs is the cell state. Figure 1 illustrates the operation of a LSTM cell.\n",
        "\n",
        "![](https://i.imgur.com/qkm8ROF.png)"
      ],
      "metadata": {
        "id": "etcv7lHhKeJB"
      }
    },
    {
      "cell_type": "markdown",
      "source": [
        "The first step in the operation of a LSTM cell is to decide which information will be forgotten in the cell state. The decision is carried out by a 'forget' gate ($f_t$). The 'forget' gate output is calculated by the following equation.\n"
      ],
      "metadata": {
        "id": "0lxYKo6YVxoA"
      }
    },
    {
      "cell_type": "markdown",
      "source": [
        "$f_t$ = σ($W_f$ . [$h_{t-1}$, $x_t$] + $b_f$)\n",
        "\n",
        "![](https://i.imgur.com/1ncItrC.png)\n",
        "\n",
        "\n",
        "Here, $f_t$ is the output of the 'forget' gate, $W_f$ and $b_f$ are the 'forget' gate weight and bias, respectively, and [$h_{t-1}$, $x_t$] is the concatenated matrix of the previous time step's hidden state and the current time step's input.\n"
      ],
      "metadata": {
        "id": "9yjB5oMX2zeM"
      }
    },
    {
      "cell_type": "markdown",
      "source": [
        "The 'forget' gate output ($f_t$) is a matrix that contains the value between 0 and 1. Since the gate has the same dimension as the previous cell state $C_{t-1}$, they can be multiplied element-wise together. The element-wise multiplication of the two matrices $f_t$ * $C_{t-1}$ is like applying a 'mask' over the previous cell state $C_{t-1}$. If a single value in the 'forget' gate $f_t$ is equal or close to 0, the product of the element-wise multiplication is also equal or close to 0. Therefore, it prevents the information stored in the corresponding unit in $C_{t-1}$ from being 'remembered' in the next time step cell state.  "
      ],
      "metadata": {
        "id": "vr_ZBzwd24kb"
      }
    },
    {
      "cell_type": "markdown",
      "source": [
        "In the following step, the information, which might be stored in the current cell state $C_{t}$ needs to be decided. This could be done in such a way:\n",
        "\n",
        "- A candidate value $\\mathbf{\\tilde{C}}_{t}$, which is a matrix containing information from the current time state that might be stored in the current cell state, is initialized.\n",
        "\n",
        "\n",
        "$\\mathbf{\\tilde{C}}_{t}$ = tanh($W_c$ . [$h_{t-1}$, $x_t$] + $b_c$)\n",
        "\n",
        "Here, tanh is the function that ouputs values between -1 and 1. $W_c$ and $b_c$ are the weight and bias to initialize the candidate value."
      ],
      "metadata": {
        "id": "NzEuwZeqmTXH"
      }
    },
    {
      "cell_type": "markdown",
      "source": [
        "- The 'update' gate $i_{t}$, which is a matrix containing values between 0 and 1, decides wbat aspects of the newly initialized candidate value $\\mathbf{\\tilde{C}}_{t}$ in order to add to the current cell state $C_{t}$.\n",
        "\n",
        "$i_{t}$ = σ($W_i$ . [$h_{t-1}$, $x_t$] + $b_i$)\n",
        "\n",
        "Here, $i_t$ is the output of the 'update' gate, $W_i$ and $b_i$ are the 'update' gate weight and bias, respectively.\n",
        "\n",
        "\n",
        "![](https://i.imgur.com/CrLyYxd.png)"
      ],
      "metadata": {
        "id": "c6VaQMHl6TLj"
      }
    },
    {
      "cell_type": "markdown",
      "source": [
        "Now it is possible to update the previous cell state $C_{t-1}$ to the new cell state $C_{t}$.\n",
        "\n",
        "$C_{t}$ = $f_t$ * $C_{t-1}$ + $i_{t}$ * $\\mathbf{\\tilde{C}}_{t}$\n",
        "\n",
        "\n",
        "![](https://i.imgur.com/CJdwdy5.png)"
      ],
      "metadata": {
        "id": "6RzYWDTdX_jD"
      }
    },
    {
      "cell_type": "markdown",
      "source": [
        "The update could be achieved by multiplying the old cell state matrix $C_{t-1}$ by 'forget gate' $f_t$. As a result, the things that were decided to 'forget' earlier, are not kept in the the current cell state matrix $C_{t}$. Afterwards, the product of $f_t$ * $C_{t-1}$ is added by $i_{t}$ * $\\mathbf{\\tilde{C}}_{t}$. The element-wise multiplication of the candidate value $\\mathbf{\\tilde{C}}_{t}$ by the 'update' gate $i_{t}$ scales how much candidate value $\\mathbf{\\tilde{C}}_{t}$ will be updated to the current cell state $C_{t}$."
      ],
      "metadata": {
        "id": "n8zI8LkiZ1gx"
      }
    },
    {
      "cell_type": "markdown",
      "source": [
        "Finally, a hidden cell state $h_{t}$ is constructed. The hidden cell state $h_{t}$ is created based on the current cell state $C_{t}$ and will be sent to the next LSTM cell.\n",
        "\n",
        "$o_{t}$ = σ($W_o$ . [$h_{t-1}$, $x_t$] + $b_o$)\n",
        "\n",
        "$h_{t}$ = $o_{t}$ * tanh($C_{t}$)\n",
        "\n",
        "![](https://i.imgur.com/QAmDzza.png)\n",
        "\n",
        "\n",
        "Here, it is important to note that the output gate $o_{t}$ is also like other gates in a LSTM cell. The gate contains values that range from 0 to 1. The ouput gate plays a role to decide how much the current cell state $C_{t}$ will be sent to the next LSTM cell through the hidden state $h_{t}$. $W_o$  and $b_o$ are the output gate weight and bias, respectively."
      ],
      "metadata": {
        "id": "fv-YQZGucxrj"
      }
    },
    {
      "cell_type": "markdown",
      "source": [
        "#Demo model"
      ],
      "metadata": {
        "id": "iASHP39KBYzd"
      }
    },
    {
      "cell_type": "code",
      "source": [
        "# Importing required libraries\n",
        "import nltk\n",
        "import pandas as pd\n",
        "from nltk.corpus import stopwords\n",
        "from textblob import Word\n",
        "from sklearn.preprocessing import LabelEncoder\n",
        "from collections import Counter\n",
        "import wordcloud\n",
        "from sklearn.metrics import classification_report,confusion_matrix,accuracy_score\n",
        "from keras.models import Sequential\n",
        "from keras.preprocessing.text import Tokenizer\n",
        "from keras.preprocessing.sequence import pad_sequences\n",
        "from keras.layers import Dense, Embedding, LSTM, SpatialDropout1D\n",
        "from sklearn.model_selection import train_test_split\n",
        "import matplotlib.pyplot as plt"
      ],
      "metadata": {
        "id": "mXqlDbke8Tcc"
      },
      "execution_count": null,
      "outputs": []
    },
    {
      "cell_type": "code",
      "source": [
        "from google.colab import drive\n",
        "drive.mount('/drive')"
      ],
      "metadata": {
        "colab": {
          "base_uri": "https://localhost:8080/"
        },
        "id": "9qab7n9OE8S0",
        "outputId": "1c561f2b-184d-4968-f4b6-9d627afcc67c"
      },
      "execution_count": null,
      "outputs": [
        {
          "output_type": "stream",
          "name": "stdout",
          "text": [
            "Mounted at /drive\n"
          ]
        }
      ]
    },
    {
      "cell_type": "code",
      "source": [
        "# Loading the dataset\n",
        "df = pd.read_csv('/drive/My Drive/Kaggle_dataset/amazon_alexa.tsv', sep='\\t')"
      ],
      "metadata": {
        "id": "NBvFvI0x8idu"
      },
      "execution_count": null,
      "outputs": []
    },
    {
      "cell_type": "code",
      "source": [
        "print(df)"
      ],
      "metadata": {
        "colab": {
          "base_uri": "https://localhost:8080/"
        },
        "id": "rzlYCvSM8rjB",
        "outputId": "815ac373-04e1-4c3e-e27b-1635a801c03d"
      },
      "execution_count": null,
      "outputs": [
        {
          "output_type": "stream",
          "name": "stdout",
          "text": [
            "      rating       date         variation  \\\n",
            "0          5  31-Jul-18  Charcoal Fabric    \n",
            "1          5  31-Jul-18  Charcoal Fabric    \n",
            "2          4  31-Jul-18    Walnut Finish    \n",
            "3          5  31-Jul-18  Charcoal Fabric    \n",
            "4          5  31-Jul-18  Charcoal Fabric    \n",
            "...      ...        ...               ...   \n",
            "3145       5  30-Jul-18        Black  Dot   \n",
            "3146       5  30-Jul-18        Black  Dot   \n",
            "3147       5  30-Jul-18        Black  Dot   \n",
            "3148       5  30-Jul-18        White  Dot   \n",
            "3149       4  29-Jul-18        Black  Dot   \n",
            "\n",
            "                                       verified_reviews  feedback  \n",
            "0                                         Love my Echo!         1  \n",
            "1                                             Loved it!         1  \n",
            "2     Sometimes while playing a game, you can answer...         1  \n",
            "3     I have had a lot of fun with this thing. My 4 ...         1  \n",
            "4                                                 Music         1  \n",
            "...                                                 ...       ...  \n",
            "3145  Perfect for kids, adults and everyone in betwe...         1  \n",
            "3146  Listening to music, searching locations, check...         1  \n",
            "3147  I do love these things, i have them running my...         1  \n",
            "3148  Only complaint I have is that the sound qualit...         1  \n",
            "3149                                               Good         1  \n",
            "\n",
            "[3150 rows x 5 columns]\n"
          ]
        }
      ]
    },
    {
      "cell_type": "code",
      "source": [
        "df.verified_reviews.value_counts()"
      ],
      "metadata": {
        "colab": {
          "base_uri": "https://localhost:8080/"
        },
        "id": "VXjoScMV9Wix",
        "outputId": "0c4949f4-aaa1-4497-9e47-96831718ef96"
      },
      "execution_count": null,
      "outputs": [
        {
          "output_type": "execute_result",
          "data": {
            "text/plain": [
              "                                                                                                                                                                                                                                                                                                                                                                                                                                                                                                                                                                                                                      79\n",
              "Love it!                                                                                                                                                                                                                                                                                                                                                                                                                                                                                                                                                                                                              22\n",
              "Love it                                                                                                                                                                                                                                                                                                                                                                                                                                                                                                                                                                                                               19\n",
              "Great product                                                                                                                                                                                                                                                                                                                                                                                                                                                                                                                                                                                                         11\n",
              "Great                                                                                                                                                                                                                                                                                                                                                                                                                                                                                                                                                                                                                  9\n",
              "                                                                                                                                                                                                                                                                                                                                                                                                                                                                                                                                                                                                                      ..\n",
              "I think it can read my mind                                                                                                                                                                                                                                                                                                                                                                                                                                                                                                                                                                                            1\n",
              "I love this thing! It plays my books from audible or prime music and sets my alarms! If you’re considering purchasing one, get it. It’s worth it.                                                                                                                                                                                                                                                                                                                                                                                                                                                                      1\n",
              "I bought this for my 90 year old grandmother and she and I love it!!! She can call all her family members with just her voice, play games, even watch a video and I love that I can “drop in” on her any time to see how she is doing. She lives all by herself. And I feel comfortable if there was an emergency she could call out to Alexa for help!!                                                                                                                                                                                                                                                               1\n",
              "4 out of 5 stars. I have the Original Tall Echo, 4 dots, 2 spots and 1 Show.  The only thing I'm finding a problem with is the speakers in the Spot. when using Drop In.  Sometimes I'm not being heard on the other spot and vice versa.  The voices tends break up or the sound coming through is intermittent. The optical is fine........ it's just the sound. Sometimes I'll have to repeat the wake word 2-3 times and I'm only 8 feet away plus it's on one of those $20 stands.  I find the ECHO DOT, Original echo and the Show has much better sound quality.  That's one reason I bought the Echo Show.     1\n",
              "The echo dot was easy to set up and use. It helps provide music, etc. to small spaces and was just what I was looking for.                                                                                                                                                                                                                                                                                                                                                                                                                                                                                             1\n",
              "Name: verified_reviews, Length: 2301, dtype: int64"
            ]
          },
          "metadata": {},
          "execution_count": 5
        }
      ]
    },
    {
      "cell_type": "code",
      "source": [
        "# Creating a new column sentiment based on overall ratings\n",
        "# Assume that if rating > 3.0 => positive rating\n",
        "# If rating <= 3.0 => negative rating\n",
        "def sentiments(df):\n",
        "  if df['rating'] > 3.0:\n",
        "    return 'Positive'\n",
        "  elif df['rating'] < 3.0:\n",
        "    return 'Negative'\n",
        "  else:\n",
        "    return 'Neutral'\n",
        "\n",
        "df['sentiment'] = df.apply(sentiments, axis=1)"
      ],
      "metadata": {
        "id": "ZWi0m5agDruE"
      },
      "execution_count": null,
      "outputs": []
    },
    {
      "cell_type": "markdown",
      "source": [
        "# Text Pre-processing\n",
        "\n",
        "Cleaning the data. It includes removing the special characters, digits, unnecessary symbols, and stop words"
      ],
      "metadata": {
        "id": "i5dLyhSV9244"
      }
    },
    {
      "cell_type": "code",
      "source": [
        "def print_plot(index):\n",
        "    example = df[df.index == index][['verified_reviews', 'rating']].values[0]\n",
        "    if len(example) > 0:\n",
        "        print(example[0])\n",
        "        print('Product:', example[1])\n",
        "print_plot(1001)"
      ],
      "metadata": {
        "colab": {
          "base_uri": "https://localhost:8080/"
        },
        "id": "DqMAvF908igs",
        "outputId": "1649a34b-5f8b-49cc-85ac-c718cb652c80"
      },
      "execution_count": null,
      "outputs": [
        {
          "output_type": "stream",
          "name": "stdout",
          "text": [
            "This was given to my 7 year at the time as a birthday gift from his dad. He loves it, ask Alexa anything she has the answer, plus it’s good for homework. So I purchased one on prime day for my bathroom for when I’m getting ready for work. I listen to music at 4am and the base it’s metro booming.. Replacement for my clock radio, plus I have the echo dot on my night stand as my alarm clock..\n",
            "Product: 5\n"
          ]
        }
      ]
    },
    {
      "cell_type": "code",
      "source": [
        "#Check if there are any null values\n",
        "df_v1 = df[['verified_reviews','sentiment']]\n",
        "df_v1.isnull().sum()"
      ],
      "metadata": {
        "colab": {
          "base_uri": "https://localhost:8080/"
        },
        "id": "dC_XR2xg8iju",
        "outputId": "81367f7c-3c76-4488-a4c8-d77242250335"
      },
      "execution_count": null,
      "outputs": [
        {
          "output_type": "execute_result",
          "data": {
            "text/plain": [
              "verified_reviews    0\n",
              "sentiment           0\n",
              "dtype: int64"
            ]
          },
          "metadata": {},
          "execution_count": 28
        }
      ]
    },
    {
      "cell_type": "code",
      "source": [
        "print(df_v1)"
      ],
      "metadata": {
        "colab": {
          "base_uri": "https://localhost:8080/"
        },
        "id": "W6eV-Ys38imh",
        "outputId": "56b19b32-f926-47b4-e6e1-916018c60c9f"
      },
      "execution_count": null,
      "outputs": [
        {
          "output_type": "stream",
          "name": "stdout",
          "text": [
            "                                       verified_reviews sentiment\n",
            "0                                         Love my Echo!  Positive\n",
            "1                                             Loved it!  Positive\n",
            "2     Sometimes while playing a game, you can answer...  Positive\n",
            "3     I have had a lot of fun with this thing. My 4 ...  Positive\n",
            "4                                                 Music  Positive\n",
            "...                                                 ...       ...\n",
            "3145  Perfect for kids, adults and everyone in betwe...  Positive\n",
            "3146  Listening to music, searching locations, check...  Positive\n",
            "3147  I do love these things, i have them running my...  Positive\n",
            "3148  Only complaint I have is that the sound qualit...  Positive\n",
            "3149                                               Good  Positive\n",
            "\n",
            "[3150 rows x 2 columns]\n"
          ]
        }
      ]
    },
    {
      "cell_type": "code",
      "source": [
        "import re\n",
        "import nltk\n",
        "nltk.download('stopwords')\n",
        "nltk.download('wordnet')\n",
        "nltk.download('omw-1.4')"
      ],
      "metadata": {
        "colab": {
          "base_uri": "https://localhost:8080/"
        },
        "id": "wZF2BN2MEOfk",
        "outputId": "21d085a1-b132-4948-fb71-cc01a0b0e9f4"
      },
      "execution_count": null,
      "outputs": [
        {
          "output_type": "stream",
          "name": "stderr",
          "text": [
            "[nltk_data] Downloading package stopwords to /root/nltk_data...\n",
            "[nltk_data]   Package stopwords is already up-to-date!\n",
            "[nltk_data] Downloading package wordnet to /root/nltk_data...\n",
            "[nltk_data]   Package wordnet is already up-to-date!\n",
            "[nltk_data] Downloading package omw-1.4 to /root/nltk_data...\n",
            "[nltk_data]   Package omw-1.4 is already up-to-date!\n"
          ]
        },
        {
          "output_type": "execute_result",
          "data": {
            "text/plain": [
              "True"
            ]
          },
          "metadata": {},
          "execution_count": 30
        }
      ]
    },
    {
      "cell_type": "code",
      "source": [
        "REPLACE_BY_SPACE_RE = re.compile('[/(){}\\[\\]\\|@,;]')\n",
        "BAD_SYMBOLS_RE = re.compile('[^0-9a-z #+_]')\n",
        "STOPWORDS = set(stopwords.words('english'))\n",
        "\n",
        "def clean_text(text):\n",
        "    \"\"\"\n",
        "        text: a string\n",
        "\n",
        "        return: modified initial string\n",
        "    \"\"\"\n",
        "    text = text.lower() # lowercase text\n",
        "    text = REPLACE_BY_SPACE_RE.sub(' ', text) # replace REPLACE_BY_SPACE_RE symbols by space in text. substitute the matched string in REPLACE_BY_SPACE_RE with space.\n",
        "    text = BAD_SYMBOLS_RE.sub('', text) # remove symbols which are in BAD_SYMBOLS_RE from text. substitute the matched string in BAD_SYMBOLS_RE with nothing.\n",
        "    text = ' '.join(word for word in text.split() if word not in STOPWORDS) # remove stopwords from text\n",
        "    return text\n",
        "\n",
        "df_v1['verified_reviews'] = df_v1['verified_reviews'].apply(clean_text)\n",
        "df_v1['verified_reviews'] = df_v1['verified_reviews'].str.replace('\\d+', '') # replace digit by space\n",
        "\n",
        "print(df_v1)"
      ],
      "metadata": {
        "colab": {
          "base_uri": "https://localhost:8080/"
        },
        "id": "J6IrCSng8ipZ",
        "outputId": "37c1ed61-0800-44ed-9f31-672ec449e801"
      },
      "execution_count": null,
      "outputs": [
        {
          "output_type": "stream",
          "name": "stdout",
          "text": [
            "                                       verified_reviews sentiment\n",
            "0                                             love echo  Positive\n",
            "1                                                 loved  Positive\n",
            "2     sometimes playing game answer question correct...  Positive\n",
            "3     lot fun thing  yr old learns dinosaurs control...  Positive\n",
            "4                                                 music  Positive\n",
            "...                                                 ...       ...\n",
            "3145                       perfect kids adults everyone  Positive\n",
            "3146  listening music searching locations checking t...  Positive\n",
            "3147  love things running entire home tv lights ther...  Positive\n",
            "3148  complaint sound quality isnt great mostly use ...  Positive\n",
            "3149                                               good  Positive\n",
            "\n",
            "[3150 rows x 2 columns]\n"
          ]
        },
        {
          "output_type": "stream",
          "name": "stderr",
          "text": [
            "/usr/local/lib/python3.7/dist-packages/ipykernel_launcher.py:17: SettingWithCopyWarning: \n",
            "A value is trying to be set on a copy of a slice from a DataFrame.\n",
            "Try using .loc[row_indexer,col_indexer] = value instead\n",
            "\n",
            "See the caveats in the documentation: https://pandas.pydata.org/pandas-docs/stable/user_guide/indexing.html#returning-a-view-versus-a-copy\n",
            "/usr/local/lib/python3.7/dist-packages/ipykernel_launcher.py:18: FutureWarning: The default value of regex will change from True to False in a future version.\n",
            "/usr/local/lib/python3.7/dist-packages/ipykernel_launcher.py:18: SettingWithCopyWarning: \n",
            "A value is trying to be set on a copy of a slice from a DataFrame.\n",
            "Try using .loc[row_indexer,col_indexer] = value instead\n",
            "\n",
            "See the caveats in the documentation: https://pandas.pydata.org/pandas-docs/stable/user_guide/indexing.html#returning-a-view-versus-a-copy\n"
          ]
        }
      ]
    },
    {
      "cell_type": "code",
      "source": [
        "def print_plot(index):\n",
        "    example = df_v1[df_v1.index == index][['verified_reviews', 'sentiment']].values[0]\n",
        "    if len(example) > 0:\n",
        "        print(example[0])\n",
        "        print('Product:', example[1])\n",
        "\n",
        "print_plot(1002)"
      ],
      "metadata": {
        "colab": {
          "base_uri": "https://localhost:8080/"
        },
        "id": "G2bhZeeSE_L5",
        "outputId": "1c9bf421-231d-4898-8fa8-cafdb600f4b2"
      },
      "execution_count": null,
      "outputs": [
        {
          "output_type": "stream",
          "name": "stdout",
          "text": [
            "impressed look clarity sound color\n",
            "Product: Positive\n"
          ]
        }
      ]
    },
    {
      "cell_type": "markdown",
      "source": [
        "# LSTM Modeling\n",
        "\n",
        ". Vectorize the 'verified_reviews' by turning each text into either a sequence of integers or into a vector\n",
        "\n",
        ". Limit the data set to the top 1000 words.\n",
        "\n",
        ". Set the max number of words in each review at 250."
      ],
      "metadata": {
        "id": "3jc6XKSMHbmU"
      }
    },
    {
      "cell_type": "code",
      "source": [
        "# The maximum number of words to be used. (most frequent)\n",
        "MAX_NB_WORDS = 1000\n",
        "# Max number of words in each complaint.\n",
        "MAX_SEQUENCE_LENGTH = 250\n",
        "# This is fixed.\n",
        "EMBEDDING_DIM = 200\n",
        "\n",
        "\n",
        "tokenizer = Tokenizer(num_words=MAX_NB_WORDS, filters='!\"#$%&()*+,-./:;<=>?@[\\]^_`{|}~', lower=True)\n",
        "tokenizer.fit_on_texts(df_v1['verified_reviews'].values)\n",
        "word_index = tokenizer.word_index\n",
        "print('Found %s unique tokens.' % len(word_index))"
      ],
      "metadata": {
        "colab": {
          "base_uri": "https://localhost:8080/"
        },
        "id": "lMxpDbF8E_X5",
        "outputId": "fb9c31df-7dce-4e19-c335-650183af4977"
      },
      "execution_count": null,
      "outputs": [
        {
          "output_type": "stream",
          "name": "stdout",
          "text": [
            "Found 4181 unique tokens.\n"
          ]
        }
      ]
    },
    {
      "cell_type": "code",
      "source": [
        "# Truncate and pad the input sequences so that they are all in the same length for modeling.\n",
        "\n",
        "X = tokenizer.texts_to_sequences(df_v1['verified_reviews'].values)\n",
        "X = pad_sequences(X, maxlen=MAX_SEQUENCE_LENGTH)\n",
        "print('Shape of data tensor:', X.shape)"
      ],
      "metadata": {
        "colab": {
          "base_uri": "https://localhost:8080/"
        },
        "id": "0URI9_IPE_ZB",
        "outputId": "433fcc3f-1ff5-4aa2-e4f4-d99dce2efa7d"
      },
      "execution_count": null,
      "outputs": [
        {
          "output_type": "stream",
          "name": "stdout",
          "text": [
            "Shape of data tensor: (3150, 250)\n"
          ]
        }
      ]
    },
    {
      "cell_type": "code",
      "source": [
        "print(X)"
      ],
      "metadata": {
        "colab": {
          "base_uri": "https://localhost:8080/"
        },
        "id": "mfDlBC3G8ivD",
        "outputId": "44b35b84-4555-4cc2-9662-69777601061f"
      },
      "execution_count": null,
      "outputs": [
        {
          "output_type": "stream",
          "name": "stdout",
          "text": [
            "[[  0   0   0 ...   0   1   2]\n",
            " [  0   0   0 ...   0   0 176]\n",
            " [  0   0   0 ...  66 256  21]\n",
            " ...\n",
            " [  0   0   0 ...  88  45  28]\n",
            " [  0   0   0 ... 602 679 107]\n",
            " [  0   0   0 ...   0   0  14]]\n"
          ]
        }
      ]
    },
    {
      "cell_type": "code",
      "source": [
        "# Converting categorical labels to numbers.\n",
        "Y = pd.get_dummies(df['sentiment']).values\n",
        "print('Shape of label tensor:', Y.shape)"
      ],
      "metadata": {
        "colab": {
          "base_uri": "https://localhost:8080/"
        },
        "id": "XsyUkrBR8ix9",
        "outputId": "6fe212a7-8156-45ed-85fd-8b9c50f6e01c"
      },
      "execution_count": null,
      "outputs": [
        {
          "output_type": "stream",
          "name": "stdout",
          "text": [
            "Shape of label tensor: (3150, 3)\n"
          ]
        }
      ]
    },
    {
      "cell_type": "code",
      "source": [
        "# train test split\n",
        "X_train, X_test, Y_train, Y_test = train_test_split(X,Y, test_size = 0.10, random_state = 42)\n",
        "print(X_train.shape,Y_train.shape)\n",
        "print(X_test.shape,Y_test.shape)"
      ],
      "metadata": {
        "colab": {
          "base_uri": "https://localhost:8080/"
        },
        "id": "UdfjFhNiJEUC",
        "outputId": "7d4e6db9-5365-4bbc-f625-35e8f9f581f5"
      },
      "execution_count": null,
      "outputs": [
        {
          "output_type": "stream",
          "name": "stdout",
          "text": [
            "(2835, 250) (2835, 3)\n",
            "(315, 250) (315, 3)\n"
          ]
        }
      ]
    },
    {
      "cell_type": "markdown",
      "source": [
        "# Model\n",
        "\n",
        ". The first layer is the embedded layer that uses 100 length vectors to represent each word.\n",
        "\n",
        ". SpatialDropout1D performs variational dropout in NLP models.\n",
        "\n",
        ". The next layer is the LSTM layer with 100 memory units.\n",
        "\n",
        ". The output layer must create 3 output values, one for each class.\n",
        "\n",
        ". Activation function is softmax for multi-class classification.\n",
        "\n",
        ". Because it is a multi-class classification problem, categorical_crossentropy is used as the loss function."
      ],
      "metadata": {
        "id": "CnIPDEw6KLxn"
      }
    },
    {
      "cell_type": "code",
      "source": [
        "from keras.callbacks import EarlyStopping\n",
        "\n",
        "model = Sequential()\n",
        "model.add(Embedding(MAX_NB_WORDS, EMBEDDING_DIM, input_length=X.shape[1]))\n",
        "model.add(SpatialDropout1D(0.2))\n",
        "model.add(LSTM(100, dropout=0.2, recurrent_dropout=0.2))\n",
        "model.add(Dense(3, activation='softmax'))\n",
        "model.compile(loss='categorical_crossentropy', optimizer='adam', metrics=['accuracy'])\n",
        "\n",
        "epochs = 5\n",
        "batch_size = 64\n",
        "\n",
        "history = model.fit(X_train, Y_train, epochs=epochs, batch_size=batch_size,validation_split=0.1,callbacks=[EarlyStopping(monitor='val_loss', patience=3, min_delta=0.0001)])\n"
      ],
      "metadata": {
        "colab": {
          "base_uri": "https://localhost:8080/"
        },
        "id": "kVfv6maDKYAX",
        "outputId": "ed4e5163-03c4-4153-da48-bea50fa222eb"
      },
      "execution_count": null,
      "outputs": [
        {
          "output_type": "stream",
          "name": "stdout",
          "text": [
            "Epoch 1/5\n",
            "40/40 [==============================] - 37s 857ms/step - loss: 0.5723 - accuracy: 0.8514 - val_loss: 0.3870 - val_accuracy: 0.8979\n",
            "Epoch 2/5\n",
            "40/40 [==============================] - 34s 845ms/step - loss: 0.4260 - accuracy: 0.8679 - val_loss: 0.3184 - val_accuracy: 0.8979\n",
            "Epoch 3/5\n",
            "40/40 [==============================] - 34s 843ms/step - loss: 0.3095 - accuracy: 0.8910 - val_loss: 0.2778 - val_accuracy: 0.9049\n",
            "Epoch 4/5\n",
            "40/40 [==============================] - 34s 842ms/step - loss: 0.2236 - accuracy: 0.9181 - val_loss: 0.2626 - val_accuracy: 0.9085\n",
            "Epoch 5/5\n",
            "40/40 [==============================] - 38s 946ms/step - loss: 0.1810 - accuracy: 0.9306 - val_loss: 0.2776 - val_accuracy: 0.9120\n"
          ]
        }
      ]
    },
    {
      "cell_type": "code",
      "source": [
        "accr = model.evaluate(X_test,Y_test)\n",
        "print('Test set\\n  Loss: {:0.3f}\\n  Accuracy: {:0.3f}'.format(accr[0],accr[1]))"
      ],
      "metadata": {
        "colab": {
          "base_uri": "https://localhost:8080/"
        },
        "id": "hSCN87doMPQv",
        "outputId": "dfcf8e4d-4303-4745-80a2-19c387c2437a"
      },
      "execution_count": null,
      "outputs": [
        {
          "output_type": "stream",
          "name": "stdout",
          "text": [
            "10/10 [==============================] - 1s 78ms/step - loss: 0.2379 - accuracy: 0.8984\n",
            "Test set\n",
            "  Loss: 0.238\n",
            "  Accuracy: 0.898\n"
          ]
        }
      ]
    },
    {
      "cell_type": "code",
      "source": [
        "plt.title('Loss')\n",
        "plt.plot(history.history['loss'], label='train')\n",
        "plt.plot(history.history['val_loss'], label='test')\n",
        "plt.legend()\n",
        "plt.show();"
      ],
      "metadata": {
        "colab": {
          "base_uri": "https://localhost:8080/",
          "height": 281
        },
        "id": "w2z1ZNrlMVIH",
        "outputId": "aab6349c-73df-4358-87a5-a0922f79cc87"
      },
      "execution_count": null,
      "outputs": [
        {
          "output_type": "display_data",
          "data": {
            "text/plain": [
              "<Figure size 432x288 with 1 Axes>"
            ],
            "image/png": "[encoded data removed]"
          },
          "metadata": {
            "needs_background": "light"
          }
        }
      ]
    },
    {
      "cell_type": "code",
      "source": [
        "plt.title('Accuracy')\n",
        "plt.plot(history.history['accuracy'], label='train')\n",
        "plt.plot(history.history['val_accuracy'], label='test')\n",
        "plt.legend()\n",
        "plt.show();"
      ],
      "metadata": {
        "colab": {
          "base_uri": "https://localhost:8080/",
          "height": 281
        },
        "id": "M9SgYQJwMbS4",
        "outputId": "2e96475b-7154-4f14-f7b3-9f79e5b5a6ad"
      },
      "execution_count": null,
      "outputs": [
        {
          "output_type": "display_data",
          "data": {
            "text/plain": [
              "<Figure size 432x288 with 1 Axes>"
            ],
            "image/png": "[encoded data removed]"
          },
          "metadata": {
            "needs_background": "light"
          }
        }
      ]
    },
    {
      "cell_type": "markdown",
      "source": [
        "Source: # https://www.analyticsvidhya.com/blog/2021/06/natural-language-processing-sentiment-analysis-using-lstm/\n",
        "\n",
        "https://towardsdatascience.com/multi-class-text-classification-with-lstm-1590bee1bd17"
      ],
      "metadata": {
        "id": "s2q6h0MZJUbk"
      }
    }
  ]
}