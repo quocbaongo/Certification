{
  "nbformat": 4,
  "nbformat_minor": 0,
  "metadata": {
    "colab": {
      "provenance": []
    },
    "kernelspec": {
      "name": "python3",
      "display_name": "Python 3"
    },
    "language_info": {
      "name": "python"
    }
  },
  "cells": [
    {
      "cell_type": "markdown",
      "source": [
        "# I. Lý thuyết"
      ],
      "metadata": {
        "id": "ZeJDyBfjARe2"
      }
    },
    {
      "cell_type": "markdown",
      "source": [
        "1. Tính tích phân\n",
        "$$ \\int_{-1}^{1} x^2 dx $$\n",
        "\n",
        "\n",
        "\n",
        "Cho $f(x)$ là một hàm liên tục trên đoạn $[-l, l]$"
      ],
      "metadata": {
        "id": "US1xf6LoAZo2"
      }
    },
    {
      "cell_type": "markdown",
      "source": [
        "![](https://i.imgur.com/2mPdmhc.jpg)"
      ],
      "metadata": {
        "id": "4DexBjKyAeuA"
      }
    },
    {
      "cell_type": "markdown",
      "source": [
        "2. Chứng minh $\\int_{-l}^l f(x)dx = 2\\int_0^lf(x) dx$, nếu $f(x)$ là hàm chẵn."
      ],
      "metadata": {
        "id": "sW_0v_VwBALZ"
      }
    },
    {
      "cell_type": "markdown",
      "source": [
        "![](https://i.imgur.com/2mPdmhc.jpg)"
      ],
      "metadata": {
        "id": "zaWGk9VeBEpU"
      }
    },
    {
      "cell_type": "markdown",
      "source": [
        "![](https://i.imgur.com/iVjmyv9.jpg)"
      ],
      "metadata": {
        "id": "O8HpfPmXBAVl"
      }
    },
    {
      "cell_type": "markdown",
      "source": [
        "3. Chứng minh $\\int_{-l}^l f(x)dx = 0$, nếu $f(x)$ là hàm lẻ."
      ],
      "metadata": {
        "id": "fBpPDopQBAYU"
      }
    },
    {
      "cell_type": "markdown",
      "source": [
        "![](https://i.imgur.com/FGgD12R.jpg)"
      ],
      "metadata": {
        "id": "AlzEqVBGBAaz"
      }
    },
    {
      "cell_type": "markdown",
      "source": [
        "4. Áp dụng các tính chất đã chứng minh ở ý (2) và (3). Hãy tính tích phân sau\n",
        "$$\\int_{-\\frac{\\pi}{4}}^{\\frac{\\pi}{4}} \\frac{x^7 - 3x^5 + x^3 + 1}{cos^2(x)}dx$$"
      ],
      "metadata": {
        "id": "CyqGOeM4BWBV"
      }
    },
    {
      "cell_type": "markdown",
      "source": [
        "![](https://i.imgur.com/VN0aHMN.jpg)"
      ],
      "metadata": {
        "id": "mCwG6645BW8L"
      }
    },
    {
      "cell_type": "markdown",
      "source": [
        "5. Chứng minh nếu hàm số $f(x)$ liên tục trên $[a, b]$ thì tồn tại một số $c \\in [a, b]$ sao cho\n",
        "$$\\int_a^b f(x)dx = f(c)(b-a)$$"
      ],
      "metadata": {
        "id": "Q9FOMBVjBW-c"
      }
    },
    {
      "cell_type": "markdown",
      "source": [
        "6. Tính tích phân: $\\int_{0}^{\\sqrt{\\pi}} x \\sin(x^2) dx$"
      ],
      "metadata": {
        "id": "zw5_QMSiBXBZ"
      }
    },
    {
      "cell_type": "markdown",
      "source": [
        "![](https://i.imgur.com/cC1Crug.jpg)"
      ],
      "metadata": {
        "id": "Y9nzViriBAd8"
      }
    },
    {
      "cell_type": "markdown",
      "source": [
        "7. Dựa trên công thức đổi biến đối với tích phân đa biến, hãy tính chứng minh rằng.\n",
        "$$\n",
        "\\int \\int_{\\phi(U)} f(x, y) dx dy = \\int \\int_{U} f(r, \\theta) r ~ dr d\\theta\n",
        "$$"
      ],
      "metadata": {
        "id": "XEymD5eOBusF"
      }
    },
    {
      "cell_type": "markdown",
      "source": [
        "![](https://i.imgur.com/D9Hb3bo.jpg)"
      ],
      "metadata": {
        "id": "7PSKXjYtBvaw"
      }
    },
    {
      "cell_type": "markdown",
      "source": [
        "![](https://i.imgur.com/bFRaE9I.jpg)"
      ],
      "metadata": {
        "id": "crQWRC4kBvdd"
      }
    },
    {
      "cell_type": "markdown",
      "source": [
        "8. Áp dụng câu 7 hãy tính tích phân:\n",
        "$$\n",
        "I = \\int _ {-\\infty}^{\\infty} \\int _ {-\\infty}^{\\infty} e^{-x^{2}-y^{2}} dxdy\n",
        "$$"
      ],
      "metadata": {
        "id": "G4_zEHGHBvgQ"
      }
    },
    {
      "cell_type": "markdown",
      "source": [
        "![](https://i.imgur.com/bFRaE9I.jpg)"
      ],
      "metadata": {
        "id": "9Le6el38CB9r"
      }
    },
    {
      "cell_type": "markdown",
      "source": [
        "![](https://i.imgur.com/D3G5Tvg.jpg)"
      ],
      "metadata": {
        "id": "-wQ5U47fCFkH"
      }
    },
    {
      "cell_type": "markdown",
      "source": [
        "![](https://i.imgur.com/asKSbRi.jpg)"
      ],
      "metadata": {
        "id": "h0g12LDxCMTS"
      }
    },
    {
      "cell_type": "markdown",
      "source": [
        "9. Cho\n",
        "$$I_1 = \\int \\int_{x^2 + y^2 \\leq 1} f(x, y) dxdy$$\n",
        "$$I_2 = \\int \\int_{x^2 + y^2 \\leq 1}  f(x, y) dydx$$\n",
        "Trong đó $f(x, y) = xy(x^2-y^2)/(x^2+y^2)^2$. Tính $I_1$"
      ],
      "metadata": {
        "id": "L37mfATICPjK"
      }
    },
    {
      "cell_type": "markdown",
      "source": [
        "![](https://i.imgur.com/7OCNNMg.jpg)"
      ],
      "metadata": {
        "id": "WtjHF8T-CPoc"
      }
    },
    {
      "cell_type": "markdown",
      "source": [
        "![](https://i.imgur.com/ZhBYQy8.jpg)"
      ],
      "metadata": {
        "id": "txRigEcDCXVN"
      }
    },
    {
      "cell_type": "markdown",
      "source": [
        "![](https://i.imgur.com/tX47onZ.jpg)"
      ],
      "metadata": {
        "id": "kMB7aLY3CgCt"
      }
    },
    {
      "cell_type": "markdown",
      "source": [
        "10. Tính $I_2$ và đưa ra nhận xét về $I_1$ và $I_2$."
      ],
      "metadata": {
        "id": "0FI2kx70Ccad"
      }
    },
    {
      "cell_type": "markdown",
      "source": [
        "![](https://i.imgur.com/8jjOn1N.jpg)"
      ],
      "metadata": {
        "id": "0QZj3UztCrnN"
      }
    },
    {
      "cell_type": "markdown",
      "source": [
        "## II. Thực hành\n",
        "\n",
        "11. Hãy vẽ đồ thị của hàm số:\n",
        "\n",
        "$$f(x) = \\frac{x}{1+x^2}$$\n",
        "\n",
        "trên miền xác định $[-50, 50]$"
      ],
      "metadata": {
        "id": "GVtmIKKNI0IC"
      }
    },
    {
      "cell_type": "code",
      "source": [
        "import math\n",
        "def function(x):\n",
        "  return (x / (1 + x**2))"
      ],
      "metadata": {
        "id": "oFGDLx3bI03J"
      },
      "execution_count": null,
      "outputs": []
    },
    {
      "cell_type": "code",
      "source": [
        "import matplotlib.pyplot as plt\n",
        "import numpy as np\n",
        "\n",
        "xlist = np.linspace(-50,50,10000)\n",
        "ylist = [function(i) for i in xlist]\n",
        "\n",
        "plt.plot(xlist, ylist)\n",
        "plt.show()"
      ],
      "metadata": {
        "colab": {
          "base_uri": "https://localhost:8080/",
          "height": 265
        },
        "id": "KER_UbzFJF6O",
        "outputId": "ff07fb55-5d07-4964-ab4b-23fb5c46dfd0"
      },
      "execution_count": null,
      "outputs": [
        {
          "output_type": "display_data",
          "data": {
            "text/plain": [
              "<Figure size 432x288 with 1 Axes>"
            ],
            "image/png": "[encoded data removed]"
          },
          "metadata": {
            "needs_background": "light"
          }
        }
      ]
    },
    {
      "cell_type": "markdown",
      "source": [
        "12. Dựa vào công thức xấp xỉ diện tích, hãy tính tích phân của hàm $f(x)$ trên một khoảng $[a, b]$ bất kì."
      ],
      "metadata": {
        "id": "j44EtW1nCx0B"
      }
    },
    {
      "cell_type": "markdown",
      "source": [
        "![](https://i.imgur.com/VORx3AZ.jpg)"
      ],
      "metadata": {
        "id": "9qB22RZLC1ZV"
      }
    },
    {
      "cell_type": "markdown",
      "source": [
        "13. Vẽ đồ thị của hàm Gaussian Distribution hai chiều trong không gian 3D:\n",
        "\n",
        "$$f(x, y) = e^{\\frac{-(x^2+y^2)}{2}}$$"
      ],
      "metadata": {
        "id": "LV_rQ-1MKd4m"
      }
    },
    {
      "cell_type": "code",
      "source": [
        "import matplotlib.pyplot as plt\n",
        "import numpy as np\n",
        "from mpl_toolkits.mplot3d import Axes3D\n",
        "\n",
        "lim = 11\n",
        "x = np.arange(-lim, lim*1.0001, 2)\n",
        "y = np.arange(-lim, lim*1.0001, 2)\n",
        "X, Y = np.meshgrid(x,y)\n",
        "Z = math.e ** (-(X ** 2 + Y ** 2) / 2)\n",
        "\n",
        "fig = plt.figure()\n",
        "ax = Axes3D(fig)\n",
        "surf = ax.plot_surface(X, Y, Z)\n",
        "\n",
        "plt.show()"
      ],
      "metadata": {
        "colab": {
          "base_uri": "https://localhost:8080/",
          "height": 319
        },
        "id": "1oqGKtmZfuP-",
        "outputId": "3b2450fe-e550-4c4b-cbf1-e07c5fb10f9f"
      },
      "execution_count": null,
      "outputs": [
        {
          "output_type": "display_data",
          "data": {
            "text/plain": [
              "<Figure size 432x288 with 1 Axes>"
            ],
            "image/png": "[encoded data removed]"
          },
          "metadata": {
            "needs_background": "light"
          }
        }
      ]
    },
    {
      "cell_type": "markdown",
      "source": [
        "14. Áp dụng công thức xấp xỉ diện tích, hãy tính tích phân của hàm $f(x, y)$ trong khoảng $[a, b] \\times [c, d]$ bất kì."
      ],
      "metadata": {
        "id": "3Oxh7m19C6s2"
      }
    },
    {
      "cell_type": "markdown",
      "source": [
        "![](https://i.imgur.com/Yx7avUP.jpg)"
      ],
      "metadata": {
        "id": "Fj9mGuHQC8hq"
      }
    },
    {
      "cell_type": "markdown",
      "source": [
        "![](https://i.imgur.com/d9KHbpz.jpg)"
      ],
      "metadata": {
        "id": "ytMmsNfnC_mg"
      }
    },
    {
      "cell_type": "markdown",
      "source": [
        "![](https://i.imgur.com/FOguGkO.jpg)"
      ],
      "metadata": {
        "id": "NN_hdPsnDDgk"
      }
    },
    {
      "cell_type": "markdown",
      "source": [
        "15. Nhận xét gì về giá trị của tích phân tính được ở câu 14 nếu chúng ta thực hiện tính tích phân theo $y$ trước, $x$ sau."
      ],
      "metadata": {
        "id": "kHKyCJ6Kev5A"
      }
    },
    {
      "cell_type": "markdown",
      "source": [
        "Theo Fubini's theorem, ta thu được  kết quả giống nhau khi thực hiện tính tích phân theo  y  trước,  x  sau so với khi thực hiện tính tích phân theo  x  trước,  y sau."
      ],
      "metadata": {
        "id": "aiEL9R_lewZS"
      }
    }
  ]
}